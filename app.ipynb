{
 "cells": [
  {
   "cell_type": "code",
   "execution_count": 1,
   "metadata": {},
   "outputs": [],
   "source": [
    "#importing turtle module\n",
    "import turtle"
   ]
  },
  {
   "cell_type": "code",
   "execution_count": 2,
   "metadata": {},
   "outputs": [],
   "source": [
    "#setting up the game's window\n",
    "Window = turtle.Screen() #initialize screen\n",
    "Window.title(\"Ping Pong Game\") #setting window title\n",
    "Window.bgcolor(\"black\") #background color\n",
    "Window.setup(width = 1000, height = 800) #window coordinates \n",
    "Window.tracer(0) #stops automatic updates for the window"
   ]
  },
  {
   "cell_type": "code",
   "execution_count": 3,
   "metadata": {},
   "outputs": [],
   "source": [
    "#game rackets\n",
    "\n",
    "#racket1\n",
    "racket1 = turtle.Turtle()   #generating an obj using the turtle module\n",
    "racket1.speed(0)            #setting the speed of the obj\n",
    "racket1.shape(\"circle\")     #setting the shape of the obj\n",
    "racket1.color(\"yellow\")     #setting the color of the obj\n",
    "racket1.shapesize(stretch_wid = 5, stretch_len = 2)     #reshaping the obj\n",
    "racket1.penup()             #removing the trace drawing the obj leaves behined\n",
    "racket1.goto(-460, 0)       #setting the posetion of the obj\n",
    "\n",
    "\n",
    "#racket2\n",
    "racket2 = turtle.Turtle()\n",
    "racket2.speed(0)\n",
    "racket2.shape(\"circle\")\n",
    "racket2.color(\"blue\")\n",
    "racket2.shapesize(stretch_wid = 5, stretch_len = 2)\n",
    "racket2.penup()\n",
    "racket2.goto(460, 0)"
   ]
  },
  {
   "cell_type": "code",
   "execution_count": 4,
   "metadata": {},
   "outputs": [],
   "source": [
    "#ball\n",
    "ball = turtle.Turtle()\n",
    "ball.speed(0)\n",
    "ball.shape(\"circle\")\n",
    "ball.color(\"white\")\n",
    "ball.penup()\n",
    "ball.goto(0, 0)         #the stating postion of the ball is in the mid of the screen\n",
    "ball.dx = 0.6           #Coefficient of variation for the x axis\n",
    "ball.dy = 0.6           #Coefficient of variation for the y axis"
   ]
  },
  {
   "cell_type": "code",
   "execution_count": 5,
   "metadata": {},
   "outputs": [],
   "source": [
    "#setting the score\n",
    "player_1_score = 0\n",
    "player_2_score = 0\n",
    "score = turtle.Turtle()\n",
    "score.speed(0)\n",
    "score.penup()\n",
    "score.color(\"white\")\n",
    "score.hideturtle()\n",
    "score.goto(0, 360)\n",
    "score.write(\"player 1: 0 || player 2: 0\", align = \"center\", font = (\"courier\", 24, \"normal\"))"
   ]
  },
  {
   "cell_type": "code",
   "execution_count": 6,
   "metadata": {},
   "outputs": [],
   "source": [
    "#racket movement\n",
    "def racket1_up():   #racket 1 moving up\n",
    "    y = racket1.ycor()      #get the y coordinate of the racket\n",
    "    y += 30                 #the y coordinate increases by 30 pixels\n",
    "    racket1.sety(y)         #set the y of the racket to the new y (the increased y)\n",
    "       \n",
    "def racket1_down(): #racket 1 moving down\n",
    "    y = racket1.ycor()      #get the y coordinate of the racket\n",
    "    y -= 30                 #the y coordinate decreases by 20 pixels\n",
    "    racket1.sety(y)         #set the y of the racket to the new y (the decreased y)\n",
    "    \n",
    "def racket2_up():   #racket 2 moving up\n",
    "    y = racket2.ycor()\n",
    "    y += 30\n",
    "    racket2.sety(y)\n",
    "       \n",
    "def racket2_down(): #racket 2 moving down\n",
    "    y = racket2.ycor()\n",
    "    y -= 30\n",
    "    racket2.sety(y)\n",
    "    \n"
   ]
  },
  {
   "cell_type": "code",
   "execution_count": 7,
   "metadata": {},
   "outputs": [],
   "source": [
    "#Keyboard bindings (keys that move the rackets)\n",
    "Window.listen()         #notify the window to expect an input\n",
    "\n",
    "Window.onkeypress(racket1_up, \"w\")          #when pressing w the function racket1_up is invoked (called)\n",
    "Window.onkeypress(racket1_down, \"s\")\n",
    "\n",
    "Window.onkeypress(racket2_up, \"Up\")\n",
    "Window.onkeypress(racket2_down, \"Down\")"
   ]
  },
  {
   "cell_type": "code",
   "execution_count": 8,
   "metadata": {},
   "outputs": [],
   "source": [
    "#main game loop\n",
    "while True:\n",
    "    Window.update() #updates the screen everytime the loop runs\n",
    "    \n",
    "    #ball movement\n",
    "    ball.setx(ball.xcor() + ball.dx)    #ball starts at 0 then starts moving according to dx\n",
    "    ball.sety(ball.ycor() + ball.dy)    #ball starts at 0 then starts moving according to dy\n",
    "    \n",
    "    #border check  \"when the ball touch any border of the screen it pounces back\"\n",
    "    #border coordinates [top = +400px, bottom = -400px,right is at +500px,left at -500px, ball size is 20px]\n",
    "    if ball.ycor() > 390:       #if ball is at the top\n",
    "        ball.sety(390)          #set new y to +390\n",
    "        ball.dy *= -1           #reverse the direction of the ball\n",
    "        \n",
    "    if ball.ycor() < -390:      #if ball is at the bottom\n",
    "        ball.sety(-390)\n",
    "        ball.dy *= -1\n",
    "    \n",
    "    if ball.xcor() > 490:       #if the ball touches the right border\n",
    "        ball.goto(0, 0)         #set ball back to center\n",
    "        ball.dx *= -1           #reverse the x direction\n",
    "        \n",
    "    if ball.xcor() < -490:      #if the ball touches the right border\n",
    "        ball.goto(0, 0)\n",
    "        ball.dx *= -1\n",
    "        \n",
    "    \n",
    "    #------------------------------------------------------------------------\n",
    "    #ball collision with racket \n",
    "    if (ball.xcor() > 440 and ball.xcor() < 470) and (ball.ycor() < racket2.ycor() + 40 and ball.ycor() > racket2.ycor() - 40):\n",
    "        ball.setx(440)\n",
    "        ball.dx *= -1\n",
    "        player_1_score += 1\n",
    "        score.clear()\n",
    "        score.write(\"player 1: {} || player 2: {}\".format(player_1_score, player_2_score), align = \"center\", font = (\"courier\", 24, \"normal\"))\n",
    "        \n",
    "    if (ball.xcor() < -440 and ball.xcor() > -470) and (ball.ycor() < racket1.ycor() + 40 and ball.ycor() > racket1.ycor() - 40):\n",
    "        ball.setx(-440)\n",
    "        ball.dx *= -1\n",
    "        player_2_score += 1\n",
    "        score.clear()\n",
    "        score.write(\"player 1: {} || player 2: {}\".format(player_1_score, player_2_score), align = \"center\", font = (\"courier\", 24, \"normal\"))\n",
    "    "
   ]
  }
 ],
 "metadata": {
  "kernelspec": {
   "display_name": "Python 3",
   "language": "python",
   "name": "python3"
  },
  "language_info": {
   "codemirror_mode": {
    "name": "ipython",
    "version": 3
   },
   "file_extension": ".py",
   "mimetype": "text/x-python",
   "name": "python",
   "nbconvert_exporter": "python",
   "pygments_lexer": "ipython3",
   "version": "3.10.5"
  }
 },
 "nbformat": 4,
 "nbformat_minor": 2
}
